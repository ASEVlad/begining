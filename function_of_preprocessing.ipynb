{
  "nbformat": 4,
  "nbformat_minor": 0,
  "metadata": {
    "colab": {
      "name": "function of preprocessing.ipynb",
      "version": "0.3.2",
      "provenance": [],
      "collapsed_sections": [],
      "include_colab_link": true
    },
    "kernelspec": {
      "name": "python3",
      "display_name": "Python 3"
    }
  },
  "cells": [
    {
      "cell_type": "markdown",
      "metadata": {
        "id": "view-in-github",
        "colab_type": "text"
      },
      "source": [
        "<a href=\"https://colab.research.google.com/github/ASEVlad/maching-learning-preprocessing/blob/master/function_of_preprocessing.ipynb\" target=\"_parent\"><img src=\"https://colab.research.google.com/assets/colab-badge.svg\" alt=\"Open In Colab\"/></a>"
      ]
    },
    {
      "metadata": {
        "id": "Z6lveX8f2aSH",
        "colab_type": "code",
        "colab": {}
      },
      "cell_type": "code",
      "source": [
        "from google.colab import files\n",
        "import pandas as pd\n",
        "import numpy as np\n",
        "from sklearn.model_selection import train_test_split\n",
        "from sklearn import linear_model\n",
        "from sklearn.metrics import mean_squared_error"
      ],
      "execution_count": 0,
      "outputs": []
    },
    {
      "metadata": {
        "id": "tOD2NFBZ2eVz",
        "colab_type": "code",
        "colab": {}
      },
      "cell_type": "code",
      "source": [
        "def drop_empty_rows(data):\n",
        "    max = 0\n",
        "    for i in range(len(data)):\n",
        "        count = 0\n",
        "        for element in data.loc[i]:\n",
        "            # print(element == element)\n",
        "            if element != element:\n",
        "                count += 1\n",
        "        # print(count)\n",
        "        if max < count:\n",
        "            max = count\n",
        "        if count / len(data.loc[i]) > 0.7:\n",
        "            data = data.drop(i)\n",
        "    return data\n",
        "\n",
        "def drop_empty_columns(data):\n",
        "    for column in data:\n",
        "        count = 0\n",
        "        for element in data[column]:\n",
        "            if element != element:\n",
        "                count += 1\n",
        "        if count / len(data[column]) > 0.9:\n",
        "            data = data.drop(column, axis=1)\n",
        "    return data\n",
        "\n",
        "def scaling(data):\n",
        "    data_length = len(data)\n",
        "    mas = np.array(data)\n",
        "    mas_max = np.nanmax(mas)\n",
        "    mas_min = np.nanmin(mas)\n",
        "    for i in range(len(data)):\n",
        "        if data[i] == data[i]:\n",
        "            data[i] = (float(data[i]) - float(mas_min))/(float(mas_max) - float(mas_min))\n",
        "    return data\n",
        "\n",
        "def standartizing(data):\n",
        "    mas = np.array(data)\n",
        "    mas = np.ma.masked_array(mas, np.isnan(mas))\n",
        "    avarage = np.mean(mas)\n",
        "    print(avarage)\n",
        "    for i in range(len(data)):\n",
        "        if data[i] == data[i]:\n",
        "            sigma = (data[i] - avarage) ** 2\n",
        "            data[i] = (data[i] - avarage) / sigma\n",
        "    return data\n",
        "\n",
        "def k_avarage(data, k):\n",
        "    def nan_index(data):\n",
        "        list_of_index = []\n",
        "        for i in range(len(data)):\n",
        "            if data[i] != data[i]:\n",
        "                list_of_index.append(i)\n",
        "        return list_of_index\n",
        "\n",
        "    def find_avarage(data, index, k):\n",
        "        i = index - 1\n",
        "        mas_of_value = np.array([])\n",
        "        while (len(mas_of_value) < (k // 2)) and i >= 0:\n",
        "            if data[i] == data[i]:\n",
        "                mas_of_value = np.append(mas_of_value, data[i])\n",
        "            i -= 1\n",
        "        i = index + 1\n",
        "        while (len(mas_of_value) < k) and i < len(data):\n",
        "            if data[i] == data[i]:\n",
        "                mas_of_value = np.append(mas_of_value, data[i])\n",
        "            i += 1\n",
        "        return np.mean(mas_of_value)\n",
        "\n",
        "    list_of_index = nan_index(data)\n",
        "    for i in list_of_index:\n",
        "        data[i] = find_avarage(data, i, k)\n",
        "    return data\n",
        "\n",
        "def method_median(data):\n",
        "    def find_median(mas):\n",
        "        def index_nan(mas):\n",
        "            for i in range(len(mas) - 1, 0, -1):\n",
        "                if mas[i] == mas[i]:\n",
        "                    return i + 1\n",
        "        mas = np.sort(mas)\n",
        "        mas = mas[:index_nan(mas)]\n",
        "        if len(mas) % 2 == 0:\n",
        "            median = (mas[len(mas) // 2] + mas[len(mas) // 2]) / 2\n",
        "        else:\n",
        "            median = mas[len(mas) // 2]\n",
        "        return median\n",
        "    mas = np.array(data)\n",
        "    median = find_median(mas)\n",
        "    for i in range(len(mas)):\n",
        "        if mas[i] != mas[i]:\n",
        "            mas[i] = median\n",
        "    return mas\n",
        "\n",
        "def method_mode(data):\n",
        "    def find_mode(mas):\n",
        "        mas = np.sort(mas)\n",
        "        count = 1\n",
        "        max = 0\n",
        "        for i in range(len(mas)):\n",
        "            mas[i] = float(mas[i])\n",
        "        for i in range(len(mas) - 1):\n",
        "\n",
        "            if mas[i] == mas[i]:\n",
        "                if (mas[i] != mas[i + 1]):\n",
        "                    if max < count:\n",
        "                        max = count\n",
        "                        number = mas[i]\n",
        "                    count = 1\n",
        "                else:\n",
        "                    count += 1\n",
        "        if max < count:\n",
        "            max = count\n",
        "            number = mas[i]\n",
        "        return number\n",
        "\n",
        "    mas = np.array(data)\n",
        "    mode = find_mode(mas)\n",
        "    for i in range(len(mas)):\n",
        "        if mas[i] != mas[i]:\n",
        "            mas[i] = mode\n",
        "    return mas\n",
        "\n",
        "def method_mean(data):\n",
        "    def find_avarage(mas):\n",
        "        mas = np.ma.masked_array(mas, np.isnan(mas))\n",
        "        return np.mean(mas)\n",
        "    mas = np.array(data)\n",
        "    avarage = find_avarage(mas)\n",
        "    for i in range(len(mas)):\n",
        "        if mas[i] != mas[i]:\n",
        "            mas[i] = avarage\n",
        "    return mas\n",
        "\n",
        "def method_liniar_regression(single_data, target):\n",
        "  try:\n",
        "    for i in single_data:\n",
        "      if (i != i):\n",
        "        check = False\n",
        "        break;\n",
        "    if check == False:\n",
        "      single_data = method_mean(single_data)\n",
        "    index = list()\n",
        "    for i in range(len(target)):\n",
        "      if target[i] != target[i]:\n",
        "        index.append(i)\n",
        "    X_train = list()\n",
        "    Y_train = list()\n",
        "    for i in range(len(single_data)):\n",
        "        if not (i in index):\n",
        "            X_train.append(single_data[i])\n",
        "            Y_train.append(target[i])\n",
        "    lm = linear_model.LinearRegression()\n",
        "    X_train = np.array(X_train)\n",
        "    Y_train = np.array(Y_train)\n",
        "    lm.fit(X_train, Y_train) #тут ошибка, не успел её исправить, потому что не хватило времени(делал следующее задание)\n",
        "    X_test = target[index]\n",
        "    predictions = lm.predict(X_test)\n",
        "    n = 0\n",
        "    for i in range(len(target)):\n",
        "      if i in index:\n",
        "        target[i] = predictions[n]\n",
        "        n += 1\n",
        "    return target\n",
        "  except:\n",
        "    print('False type of data')"
      ],
      "execution_count": 0,
      "outputs": []
    },
    {
      "metadata": {
        "id": "ltKlQedXHPef",
        "colab_type": "code",
        "colab": {
          "resources": {
            "http://localhost:8080/nbextensions/google.colab/files.js": {
              "data": "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",
              "ok": true,
              "headers": [
                [
                  "content-type",
                  "application/javascript"
                ]
              ],
              "status": 200,
              "status_text": ""
            }
          },
          "base_uri": "https://localhost:8080/",
          "height": 873
        },
        "outputId": "01e877de-8b91-461a-817f-dac66c5546c4"
      },
      "cell_type": "code",
      "source": [
        "upload = files.upload()\n",
        "data = pd.read_csv('Admission_Predict.csv', error_bad_lines=False)\n",
        "print(data.info())\n",
        "print(data.describe())\n",
        "data = data[['TOEFL Score', 'CGPA', 'SOP', 'LOR ', 'GRE Score']]\n",
        "\n",
        "#creating durty dataset\n",
        "mas = list(set(np.random.randint(399, size=80)))\n",
        "for i in mas:\n",
        "    data.loc[i, 'TOEFL Score'] = np.nan\n",
        "\n",
        "mas = list(set(np.random.randint(399, size=80)))\n",
        "for i in mas:\n",
        "    data.loc[i, 'SOP'] = np.nan\n",
        "\n",
        "mas = list(set(np.random.randint(399, size=80)))\n",
        "for i in mas:\n",
        "    data.loc[i, 'LOR '] = np.nan\n",
        "print(data.info())"
      ],
      "execution_count": 7,
      "outputs": [
        {
          "output_type": "display_data",
          "data": {
            "text/html": [
              "\n",
              "     <input type=\"file\" id=\"files-2742001c-84d1-4ebc-8f2c-27637a7c4794\" name=\"files[]\" multiple disabled />\n",
              "     <output id=\"result-2742001c-84d1-4ebc-8f2c-27637a7c4794\">\n",
              "      Upload widget is only available when the cell has been executed in the\n",
              "      current browser session. Please rerun this cell to enable.\n",
              "      </output>\n",
              "      <script src=\"/nbextensions/google.colab/files.js\"></script> "
            ],
            "text/plain": [
              "<IPython.core.display.HTML object>"
            ]
          },
          "metadata": {
            "tags": []
          }
        },
        {
          "output_type": "stream",
          "text": [
            "Saving Admission_Predict.csv to Admission_Predict (1).csv\n",
            "<class 'pandas.core.frame.DataFrame'>\n",
            "RangeIndex: 400 entries, 0 to 399\n",
            "Data columns (total 9 columns):\n",
            "Serial No.           400 non-null int64\n",
            "GRE Score            400 non-null int64\n",
            "TOEFL Score          400 non-null int64\n",
            "University Rating    400 non-null int64\n",
            "SOP                  400 non-null float64\n",
            "LOR                  400 non-null float64\n",
            "CGPA                 400 non-null float64\n",
            "Research             400 non-null int64\n",
            "Chance of Admit      400 non-null float64\n",
            "dtypes: float64(4), int64(5)\n",
            "memory usage: 28.2 KB\n",
            "None\n",
            "       Serial No.   GRE Score  TOEFL Score  University Rating         SOP  \\\n",
            "count  400.000000  400.000000   400.000000         400.000000  400.000000   \n",
            "mean   200.500000  316.807500   107.410000           3.087500    3.400000   \n",
            "std    115.614301   11.473646     6.069514           1.143728    1.006869   \n",
            "min      1.000000  290.000000    92.000000           1.000000    1.000000   \n",
            "25%    100.750000  308.000000   103.000000           2.000000    2.500000   \n",
            "50%    200.500000  317.000000   107.000000           3.000000    3.500000   \n",
            "75%    300.250000  325.000000   112.000000           4.000000    4.000000   \n",
            "max    400.000000  340.000000   120.000000           5.000000    5.000000   \n",
            "\n",
            "             LOR         CGPA    Research  Chance of Admit   \n",
            "count  400.000000  400.000000  400.000000        400.000000  \n",
            "mean     3.452500    8.598925    0.547500          0.724350  \n",
            "std      0.898478    0.596317    0.498362          0.142609  \n",
            "min      1.000000    6.800000    0.000000          0.340000  \n",
            "25%      3.000000    8.170000    0.000000          0.640000  \n",
            "50%      3.500000    8.610000    1.000000          0.730000  \n",
            "75%      4.000000    9.062500    1.000000          0.830000  \n",
            "max      5.000000    9.920000    1.000000          0.970000  \n",
            "<class 'pandas.core.frame.DataFrame'>\n",
            "RangeIndex: 400 entries, 0 to 399\n",
            "Data columns (total 5 columns):\n",
            "TOEFL Score    324 non-null float64\n",
            "CGPA           400 non-null float64\n",
            "SOP            330 non-null float64\n",
            "LOR            330 non-null float64\n",
            "GRE Score      400 non-null int64\n",
            "dtypes: float64(4), int64(1)\n",
            "memory usage: 15.7 KB\n",
            "None\n"
          ],
          "name": "stdout"
        }
      ]
    },
    {
      "metadata": {
        "id": "rXdxgBSkzfRl",
        "colab_type": "code",
        "colab": {
          "base_uri": "https://localhost:8080/",
          "height": 514
        },
        "outputId": "db7ad6b5-9af6-4a04-feb3-36378a2e0ea8"
      },
      "cell_type": "code",
      "source": [
        "#preprocessing\n",
        "data_for_regress = data[['TOEFL Score', 'CGPA', 'SOP', 'LOR ']]\n",
        "data_for_regress['TOEFL Score'] = k_avarage(data['TOEFL Score'], 5)\n",
        "data_for_regress['SOP'] = k_avarage(data['SOP'], 2)\n",
        "data_for_regress['LOR '] = method_mode(data['LOR '])\n",
        "data_for_regress['CGPA'] = method_mean(data['CGPA'])\n",
        "target_for_regress = data['GRE Score']\n",
        "\n",
        "#deleting nan in target\n",
        "index = list()\n",
        "for i in range(len(target_for_regress)):\n",
        "    if target_for_regress[i] != target_for_regress[i]:\n",
        "        index.append(i)\n",
        "data_for_regress = data_for_regress.drop(index)\n",
        "target_for_regress = target_for_regress.drop(index)\n",
        "X_train, X_test, Y_train, Y_test = train_test_split(data_for_regress, target_for_regress, test_size=0.2, random_state=0)\n",
        "\n",
        "#model\n",
        "lm = linear_model.LinearRegression()\n",
        "model = lm.fit(X_train, Y_train)\n",
        "predictions = lm.predict(X_test)\n",
        "score1 = mean_squared_error(np.array(Y_test), predictions)"
      ],
      "execution_count": 8,
      "outputs": [
        {
          "output_type": "stream",
          "text": [
            "/usr/local/lib/python3.6/dist-packages/ipykernel_launcher.py:71: SettingWithCopyWarning: \n",
            "A value is trying to be set on a copy of a slice from a DataFrame\n",
            "\n",
            "See the caveats in the documentation: http://pandas.pydata.org/pandas-docs/stable/indexing.html#indexing-view-versus-copy\n",
            "/usr/local/lib/python3.6/dist-packages/ipykernel_launcher.py:2: SettingWithCopyWarning: \n",
            "A value is trying to be set on a copy of a slice from a DataFrame.\n",
            "Try using .loc[row_indexer,col_indexer] = value instead\n",
            "\n",
            "See the caveats in the documentation: http://pandas.pydata.org/pandas-docs/stable/indexing.html#indexing-view-versus-copy\n",
            "  \n",
            "/usr/local/lib/python3.6/dist-packages/ipykernel_launcher.py:3: SettingWithCopyWarning: \n",
            "A value is trying to be set on a copy of a slice from a DataFrame.\n",
            "Try using .loc[row_indexer,col_indexer] = value instead\n",
            "\n",
            "See the caveats in the documentation: http://pandas.pydata.org/pandas-docs/stable/indexing.html#indexing-view-versus-copy\n",
            "  This is separate from the ipykernel package so we can avoid doing imports until\n",
            "/usr/local/lib/python3.6/dist-packages/ipykernel_launcher.py:4: SettingWithCopyWarning: \n",
            "A value is trying to be set on a copy of a slice from a DataFrame.\n",
            "Try using .loc[row_indexer,col_indexer] = value instead\n",
            "\n",
            "See the caveats in the documentation: http://pandas.pydata.org/pandas-docs/stable/indexing.html#indexing-view-versus-copy\n",
            "  after removing the cwd from sys.path.\n",
            "/usr/local/lib/python3.6/dist-packages/ipykernel_launcher.py:5: SettingWithCopyWarning: \n",
            "A value is trying to be set on a copy of a slice from a DataFrame.\n",
            "Try using .loc[row_indexer,col_indexer] = value instead\n",
            "\n",
            "See the caveats in the documentation: http://pandas.pydata.org/pandas-docs/stable/indexing.html#indexing-view-versus-copy\n",
            "  \"\"\"\n"
          ],
          "name": "stderr"
        }
      ]
    },
    {
      "metadata": {
        "id": "_gjMuI2uzgr_",
        "colab_type": "code",
        "colab": {
          "base_uri": "https://localhost:8080/",
          "height": 514
        },
        "outputId": "d05af9da-199d-4df7-9b33-a950328f3ac0"
      },
      "cell_type": "code",
      "source": [
        "#preprocessing\n",
        "data_for_regress = data[['TOEFL Score', 'CGPA', 'SOP', 'LOR ']]\n",
        "data_for_regress['TOEFL Score'] = scaling(method_mean(data['TOEFL Score']))\n",
        "data_for_regress['SOP'] = scaling(k_avarage(data['SOP'], 10))\n",
        "data_for_regress['LOR '] = scaling(method_median(data['LOR ']))\n",
        "data_for_regress['CGPA'] = scaling(k_avarage(data['SOP'], 15))\n",
        "target_for_regress = data['GRE Score']\n",
        "\n",
        "#deleting nan in target\n",
        "index = list()\n",
        "for i in range(len(target_for_regress)):\n",
        "    if target_for_regress[i] != target_for_regress[i]:\n",
        "        index.append(i)\n",
        "data_for_regress = data_for_regress.drop(index)\n",
        "target_for_regress = target_for_regress.drop(index)\n",
        "X_train, X_test, Y_train, Y_test = train_test_split(data_for_regress, target_for_regress, test_size=0.2, random_state=0)\n",
        "\n",
        "#model\n",
        "lm = linear_model.LinearRegression()\n",
        "model = lm.fit(X_train, Y_train)\n",
        "predictions = lm.predict(X_test)\n",
        "score2 = mean_squared_error(np.array(Y_test), predictions)"
      ],
      "execution_count": 9,
      "outputs": [
        {
          "output_type": "stream",
          "text": [
            "/usr/local/lib/python3.6/dist-packages/ipykernel_launcher.py:2: SettingWithCopyWarning: \n",
            "A value is trying to be set on a copy of a slice from a DataFrame.\n",
            "Try using .loc[row_indexer,col_indexer] = value instead\n",
            "\n",
            "See the caveats in the documentation: http://pandas.pydata.org/pandas-docs/stable/indexing.html#indexing-view-versus-copy\n",
            "  \n",
            "/usr/local/lib/python3.6/dist-packages/ipykernel_launcher.py:33: SettingWithCopyWarning: \n",
            "A value is trying to be set on a copy of a slice from a DataFrame\n",
            "\n",
            "See the caveats in the documentation: http://pandas.pydata.org/pandas-docs/stable/indexing.html#indexing-view-versus-copy\n",
            "/usr/local/lib/python3.6/dist-packages/ipykernel_launcher.py:3: SettingWithCopyWarning: \n",
            "A value is trying to be set on a copy of a slice from a DataFrame.\n",
            "Try using .loc[row_indexer,col_indexer] = value instead\n",
            "\n",
            "See the caveats in the documentation: http://pandas.pydata.org/pandas-docs/stable/indexing.html#indexing-view-versus-copy\n",
            "  This is separate from the ipykernel package so we can avoid doing imports until\n",
            "/usr/local/lib/python3.6/dist-packages/ipykernel_launcher.py:4: SettingWithCopyWarning: \n",
            "A value is trying to be set on a copy of a slice from a DataFrame.\n",
            "Try using .loc[row_indexer,col_indexer] = value instead\n",
            "\n",
            "See the caveats in the documentation: http://pandas.pydata.org/pandas-docs/stable/indexing.html#indexing-view-versus-copy\n",
            "  after removing the cwd from sys.path.\n",
            "/usr/local/lib/python3.6/dist-packages/ipykernel_launcher.py:5: SettingWithCopyWarning: \n",
            "A value is trying to be set on a copy of a slice from a DataFrame.\n",
            "Try using .loc[row_indexer,col_indexer] = value instead\n",
            "\n",
            "See the caveats in the documentation: http://pandas.pydata.org/pandas-docs/stable/indexing.html#indexing-view-versus-copy\n",
            "  \"\"\"\n"
          ],
          "name": "stderr"
        }
      ]
    },
    {
      "metadata": {
        "id": "JYpk_f2k3vrd",
        "colab_type": "code",
        "colab": {
          "base_uri": "https://localhost:8080/",
          "height": 52
        },
        "outputId": "af282106-b7c4-479a-d327-6852baca6337"
      },
      "cell_type": "code",
      "source": [
        "print(score1)\n",
        "print(score2)"
      ],
      "execution_count": 10,
      "outputs": [
        {
          "output_type": "stream",
          "text": [
            "40.52474407320811\n",
            "49.81055561066522\n"
          ],
          "name": "stdout"
        }
      ]
    }
  ]
}